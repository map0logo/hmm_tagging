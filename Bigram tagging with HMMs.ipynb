{
 "cells": [
  {
   "cell_type": "markdown",
   "metadata": {},
   "source": [
    "# Bigram tagging with HMMs\n",
    "\n",
    "Implementation of bigram part-of speech (POS) tagger based on first-order hidden\n",
    "Markov models from scratch."
   ]
  },
  {
   "cell_type": "code",
   "execution_count": 1,
   "metadata": {
    "collapsed": false
   },
   "outputs": [
    {
     "name": "stdout",
     "output_type": "stream",
     "text": [
      "/home/mapologo/projects/hmm_tagging\r\n"
     ]
    }
   ],
   "source": [
    "!pwd"
   ]
  },
  {
   "cell_type": "code",
   "execution_count": 2,
   "metadata": {
    "collapsed": false
   },
   "outputs": [
    {
     "name": "stderr",
     "output_type": "stream",
     "text": [
      "/usr/local/lib/python2.7/dist-packages/IPython/config.py:13: ShimWarning: The `IPython.config` package has been deprecated. You should import from traitlets.config instead.\n",
      "  \"You should import from traitlets.config instead.\", ShimWarning)\n",
      "/usr/local/lib/python2.7/dist-packages/IPython/utils/traitlets.py:5: UserWarning: IPython.utils.traitlets has moved to a top-level traitlets package.\n",
      "  warn(\"IPython.utils.traitlets has moved to a top-level traitlets package.\")\n"
     ]
    }
   ],
   "source": [
    "%load_ext ipycache"
   ]
  },
  {
   "cell_type": "markdown",
   "metadata": {},
   "source": [
    "## Let's try with some toy data\n",
    "\n",
    "Example taken from Borodovsky & Ekisheva (2006), pp 80-81"
   ]
  },
  {
   "cell_type": "code",
   "execution_count": 3,
   "metadata": {
    "collapsed": false
   },
   "outputs": [
    {
     "name": "stdout",
     "output_type": "stream",
     "text": [
      "[u'H' u'H' u'H' u'L' u'L' u'L' u'L' u'L' u'L']\n",
      "[[u'H' u'H' u'H' u'H' u'L' u'H' u'L' u'H' u'L']\n",
      " [u'L' u'H' u'H' u'H' u'L' u'L' u'L' u'L' u'L']]\n",
      "[[ -1.89711998  -3.79423997  -5.69135995  -7.99394505  -9.70874348\n",
      "  -12.01132857 -13.54380544 -15.84639053 -17.78433251]\n",
      " [ -2.30258509  -4.19970508  -6.09682506  -7.58847994  -9.70874348\n",
      "  -11.4235419  -13.54380544 -15.25860387 -16.9734023 ]]\n"
     ]
    }
   ],
   "source": [
    "from bigram_tagging import testing_viterbi\n",
    "testing_viterbi()"
   ]
  },
  {
   "cell_type": "markdown",
   "metadata": {},
   "source": [
    "Everything seems to go Ok!"
   ]
  },
  {
   "cell_type": "markdown",
   "metadata": {},
   "source": [
    "## Model training\n",
    "\n",
    "Now, estimate model parameters.\n",
    "Next step take some time, you can go for a coffee.\n",
    "Result is saved on `de-model.npz` a file in numpy zip format."
   ]
  },
  {
   "cell_type": "code",
   "execution_count": 4,
   "metadata": {
    "collapsed": true
   },
   "outputs": [],
   "source": [
    "from bigram_tagging import train"
   ]
  },
  {
   "cell_type": "code",
   "execution_count": 5,
   "metadata": {
    "collapsed": false
   },
   "outputs": [
    {
     "name": "stdout",
     "output_type": "stream",
     "text": [
      "[Skipped the cell's code and loaded variables emit_f, obs_states, start_f, trans_f from file '/home/mapologo/projects/hmm_tagging/model.pkl'.]\n"
     ]
    }
   ],
   "source": [
    "%%cache model.pkl start_f, trans_f, emit_f, obs_states\n",
    "start_f, trans_f, emit_f, obs_states = train(\"de-train.tt\")"
   ]
  },
  {
   "cell_type": "markdown",
   "metadata": {},
   "source": [
    "## Model Evaluation\n",
    "\n",
    "Let's generate a tagged corpus for new data"
   ]
  },
  {
   "cell_type": "code",
   "execution_count": 6,
   "metadata": {
    "collapsed": true
   },
   "outputs": [],
   "source": [
    "from bigram_tagging import evaluate_model, add_one_smoothing"
   ]
  },
  {
   "cell_type": "code",
   "execution_count": 7,
   "metadata": {
    "collapsed": false
   },
   "outputs": [
    {
     "name": "stdout",
     "output_type": "stream",
     "text": [
      "[Skipped the cell's code and loaded variables sents, t_sents from file '/home/mapologo/projects/hmm_tagging/test_corpus.pkl'.]\n"
     ]
    }
   ],
   "source": [
    "%%cache test_corpus.pkl sents, t_sents\n",
    "sents, t_sents = evaluate_model(\"de-test.t\", start_f, trans_f, emit_f, obs_states, add_one_smoothing)"
   ]
  },
  {
   "cell_type": "code",
   "execution_count": 8,
   "metadata": {
    "collapsed": true
   },
   "outputs": [],
   "source": [
    "from bigram_tagging import write_corpus"
   ]
  },
  {
   "cell_type": "code",
   "execution_count": 9,
   "metadata": {
    "collapsed": true
   },
   "outputs": [],
   "source": [
    "write_corpus(\"de-test.tt\", sents, t_sents)"
   ]
  },
  {
   "cell_type": "markdown",
   "metadata": {},
   "source": [
    "Now, try the evaluation script"
   ]
  },
  {
   "cell_type": "code",
   "execution_count": 10,
   "metadata": {
    "collapsed": false
   },
   "outputs": [
    {
     "name": "stdout",
     "output_type": "stream",
     "text": [
      "\r\n",
      "Comparing gold file \"de-test.tt\" and system file \"de-eval.tt\"\r\n",
      "\r\n",
      "Precision, recall, and F1 score:\r\n",
      "\r\n",
      "  ADV 0.7553 0.8812 0.8134\r\n",
      " NOUN 0.8454 0.8933 0.8687\r\n",
      "  ADP 0.9859 0.8360 0.9047\r\n",
      "  PRT 0.7980 0.9459 0.8657\r\n",
      "  DET 0.9874 0.6987 0.8184\r\n",
      "    . 0.9807 0.9329 0.9562\r\n",
      " PRON 0.7788 0.8216 0.7996\r\n",
      " VERB 0.8571 0.8841 0.8704\r\n",
      "  NUM 0.5556 1.0000 0.7143\r\n",
      " CONJ 0.8515 0.9670 0.9055\r\n",
      "  ADJ 0.6102 0.7835 0.6861\r\n",
      "\r\n",
      "Accuracy: 0.8601\r\n",
      "\r\n"
     ]
    }
   ],
   "source": [
    "!python eval.py de-test.tt de-eval.tt"
   ]
  },
  {
   "cell_type": "code",
   "execution_count": null,
   "metadata": {
    "collapsed": true
   },
   "outputs": [],
   "source": []
  }
 ],
 "metadata": {
  "kernelspec": {
   "display_name": "Python 2",
   "language": "python",
   "name": "python2"
  },
  "language_info": {
   "codemirror_mode": {
    "name": "ipython",
    "version": 2
   },
   "file_extension": ".py",
   "mimetype": "text/x-python",
   "name": "python",
   "nbconvert_exporter": "python",
   "pygments_lexer": "ipython2",
   "version": "2.7.6"
  }
 },
 "nbformat": 4,
 "nbformat_minor": 0
}
